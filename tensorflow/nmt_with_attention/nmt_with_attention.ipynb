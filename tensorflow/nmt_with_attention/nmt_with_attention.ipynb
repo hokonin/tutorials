{
  "nbformat": 4,
  "nbformat_minor": 0,
  "metadata": {
    "colab": {
      "name": "nmt_with_attention.ipynb",
      "version": "0.3.2",
      "provenance": [],
      "collapsed_sections": [
        "fj7J-Fmdea9i"
      ]
    },
    "kernelspec": {
      "name": "python3",
      "display_name": "Python 3"
    },
    "accelerator": "GPU"
  },
  "cells": [
    {
      "cell_type": "markdown",
      "metadata": {
        "id": "fj7J-Fmdea9i",
        "colab_type": "text"
      },
      "source": [
        "##### Copyright 2019 The TensorFlow Authors."
      ]
    },
    {
      "cell_type": "code",
      "metadata": {
        "id": "Vg0-zuE9ef5L",
        "colab_type": "code",
        "colab": {}
      },
      "source": [
        "#@title Licensed under the Apache License, Version 2.0 (the \"License\");\n",
        "# you may not use this file except in compliance with the License.\n",
        "# You may obtain a copy of the License at\n",
        "#\n",
        "# https://www.apache.org/licenses/LICENSE-2.0\n",
        "#\n",
        "# Unless required by applicable law or agreed to in writing, software\n",
        "# distributed under the License is distributed on an \"AS IS\" BASIS,\n",
        "# WITHOUT WARRANTIES OR CONDITIONS OF ANY KIND, either express or implied.\n",
        "# See the License for the specific language governing permissions and\n",
        "# limitations under the License."
      ],
      "execution_count": 0,
      "outputs": []
    },
    {
      "cell_type": "markdown",
      "metadata": {
        "colab_type": "text",
        "id": "AOpGoE2T-YXS"
      },
      "source": [
        "# [Neural Machine Translation with Attention](https://www.tensorflow.org/beta/tutorials/text/nmt_with_attention)"
      ]
    },
    {
      "cell_type": "markdown",
      "metadata": {
        "id": "KJ760Y73exk9",
        "colab_type": "text"
      },
      "source": [
        "<table class=\"tfo-notebook-buttons\" align=\"left\">\n",
        "  <td>\n",
        "    <a target=\"_blank\" href=\"https://www.tensorflow.org/beta/tutorials/text/nmt_with_attention\">\n",
        "    <img src=\"https://www.tensorflow.org/images/tf_logo_32px.png\" />\n",
        "    View on TensorFlow.org</a>\n",
        "  </td>\n",
        "  <td>\n",
        "    <a target=\"_blank\" href=\"https://colab.research.google.com/github/tensorflow/docs/blob/master/site/en/r2/tutorials/text/nmt_with_attention.ipynb\">\n",
        "    <img src=\"https://www.tensorflow.org/images/colab_logo_32px.png\" />\n",
        "    Run in Google Colab</a>\n",
        "  </td>\n",
        "  <td>\n",
        "    <a target=\"_blank\" href=\"https://github.com/tensorflow/docs/blob/master/site/en/r2/tutorials/text/nmt_with_attention.ipynb\">\n",
        "    <img src=\"https://www.tensorflow.org/images/GitHub-Mark-32px.png\" />\n",
        "    View source on GitHub</a>\n",
        "  </td>\n",
        "  <td>\n",
        "    <a href=\"https://storage.googleapis.com/tensorflow_docs/docs/site/en/r2/tutorials/text/nmt_with_attention.ipynb\"><img src=\"https://www.tensorflow.org/images/download_logo_32px.png\" />Download notebook</a>\n",
        "  </td>\n",
        "</table>"
      ]
    },
    {
      "cell_type": "markdown",
      "metadata": {
        "colab_type": "text",
        "id": "CiwtNgENbx2g"
      },
      "source": [
        "This notebook trains a sequence to sequence (seq2seq) model for Spanish to English translation using [tf.keras](https://www.tensorflow.org/programmers_guide/keras) and [eager execution](https://www.tensorflow.org/programmers_guide/eager). This is an advanced example that assumes some knowledge of sequence to sequence models.\n",
        "\n",
        "> このノートブックは [tf.keras](https://www.tensorflow.org/programmers_guide/keras) と [eager exicution](https://www.tensorflow.org/programmers_guide/eager) を使用してスペイン語を英語に翻訳するシーケンス to シーケンス（seq2seq）モデルを学習します。これはシーケンス to シーケンスモデルに関する知識を前提とした高度な例です。\n",
        "\n",
        "After training the model in this notebook, you will be able to input a Spanish sentence, such as *\"¿todavia estan en casa?\"* , and return the English translation: *\"are you still at home?\"*\n",
        "\n",
        "> このノートブックでモデルを訓練した後は *\"¿todavia estan en casa?\"* などのスペイン語の文章を入力して、英語の翻訳 *\"are you still at home?\"* を返すことができます。\n",
        "\n",
        "The translation quality is reasonable for a toy example, but the generated attention plot is perhaps more interesting. This shows which parts of the input sentence has the model's attention while translating:\n",
        "\n",
        "> 翻訳の質は例題としては妥当ですが、生成された Attention プロットはおそらくもっと興味深いものです。これは翻訳中に入力文のどの部分にモデルが注目したかを示します。\n",
        "\n",
        "<img src=\"https://tensorflow.org/images/spanish-english.png\" alt=\"spanish-english attention plot\">\n",
        "\n",
        "Note: This example takes approximately 10 mintues to run on a single P100 GPU.\n",
        "\n",
        "> 注：この例では1台のP100 GPUで実行するのに約10分かかります。"
      ]
    },
    {
      "cell_type": "code",
      "metadata": {
        "colab_type": "code",
        "id": "tnxXKDjq3jEL",
        "outputId": "a9366bcb-9d7c-489a-eb40-273928858776",
        "colab": {
          "base_uri": "https://localhost:8080/",
          "height": 530
        }
      },
      "source": [
        "from __future__ import absolute_import\n",
        "from __future__ import division\n",
        "from __future__ import print_function\n",
        "from __future__ import unicode_literals\n",
        "\n",
        "# Import TensorFlow >= 1.10 and enable eager execution\n",
        "!pip install tensorflow-gpu==2.0.0-beta1\n",
        "import tensorflow as tf\n",
        "# tf.enable_eager_execution()\n",
        "\n",
        "import matplotlib.pyplot as plt\n",
        "from sklearn.model_selection import train_test_split\n",
        "\n",
        "import unicodedata\n",
        "import re\n",
        "import numpy as np\n",
        "import os\n",
        "import io\n",
        "import time\n",
        "\n",
        "print(tf.__version__)"
      ],
      "execution_count": 0,
      "outputs": [
        {
          "output_type": "stream",
          "text": [
            "Collecting tensorflow-gpu==2.0.0-beta1\n",
            "\u001b[?25l  Downloading https://files.pythonhosted.org/packages/2b/53/e18c5e7a2263d3581a979645a185804782e59b8e13f42b9c3c3cfb5bb503/tensorflow_gpu-2.0.0b1-cp36-cp36m-manylinux1_x86_64.whl (348.9MB)\n",
            "\u001b[K     |████████████████████████████████| 348.9MB 91kB/s \n",
            "\u001b[?25hRequirement already satisfied: grpcio>=1.8.6 in /usr/local/lib/python3.6/dist-packages (from tensorflow-gpu==2.0.0-beta1) (1.15.0)\n",
            "Requirement already satisfied: astor>=0.6.0 in /usr/local/lib/python3.6/dist-packages (from tensorflow-gpu==2.0.0-beta1) (0.8.0)\n",
            "Requirement already satisfied: absl-py>=0.7.0 in /usr/local/lib/python3.6/dist-packages (from tensorflow-gpu==2.0.0-beta1) (0.7.1)\n",
            "Requirement already satisfied: keras-preprocessing>=1.0.5 in /usr/local/lib/python3.6/dist-packages (from tensorflow-gpu==2.0.0-beta1) (1.1.0)\n",
            "Requirement already satisfied: numpy<2.0,>=1.14.5 in /usr/local/lib/python3.6/dist-packages (from tensorflow-gpu==2.0.0-beta1) (1.16.4)\n",
            "Requirement already satisfied: six>=1.10.0 in /usr/local/lib/python3.6/dist-packages (from tensorflow-gpu==2.0.0-beta1) (1.12.0)\n",
            "Collecting tb-nightly<1.14.0a20190604,>=1.14.0a20190603 (from tensorflow-gpu==2.0.0-beta1)\n",
            "\u001b[?25l  Downloading https://files.pythonhosted.org/packages/a4/96/571b875cd81dda9d5dfa1422a4f9d749e67c0a8d4f4f0b33a4e5f5f35e27/tb_nightly-1.14.0a20190603-py3-none-any.whl (3.1MB)\n",
            "\u001b[K     |████████████████████████████████| 3.1MB 41.4MB/s \n",
            "\u001b[?25hRequirement already satisfied: google-pasta>=0.1.6 in /usr/local/lib/python3.6/dist-packages (from tensorflow-gpu==2.0.0-beta1) (0.1.7)\n",
            "Requirement already satisfied: wrapt>=1.11.1 in /usr/local/lib/python3.6/dist-packages (from tensorflow-gpu==2.0.0-beta1) (1.11.2)\n",
            "Requirement already satisfied: gast>=0.2.0 in /usr/local/lib/python3.6/dist-packages (from tensorflow-gpu==2.0.0-beta1) (0.2.2)\n",
            "Collecting tf-estimator-nightly<1.14.0.dev2019060502,>=1.14.0.dev2019060501 (from tensorflow-gpu==2.0.0-beta1)\n",
            "\u001b[?25l  Downloading https://files.pythonhosted.org/packages/32/dd/99c47dd007dcf10d63fd895611b063732646f23059c618a373e85019eb0e/tf_estimator_nightly-1.14.0.dev2019060501-py2.py3-none-any.whl (496kB)\n",
            "\u001b[K     |████████████████████████████████| 501kB 50.7MB/s \n",
            "\u001b[?25hRequirement already satisfied: termcolor>=1.1.0 in /usr/local/lib/python3.6/dist-packages (from tensorflow-gpu==2.0.0-beta1) (1.1.0)\n",
            "Requirement already satisfied: keras-applications>=1.0.6 in /usr/local/lib/python3.6/dist-packages (from tensorflow-gpu==2.0.0-beta1) (1.0.8)\n",
            "Requirement already satisfied: protobuf>=3.6.1 in /usr/local/lib/python3.6/dist-packages (from tensorflow-gpu==2.0.0-beta1) (3.7.1)\n",
            "Requirement already satisfied: wheel>=0.26 in /usr/local/lib/python3.6/dist-packages (from tensorflow-gpu==2.0.0-beta1) (0.33.4)\n",
            "Requirement already satisfied: markdown>=2.6.8 in /usr/local/lib/python3.6/dist-packages (from tb-nightly<1.14.0a20190604,>=1.14.0a20190603->tensorflow-gpu==2.0.0-beta1) (3.1.1)\n",
            "Requirement already satisfied: setuptools>=41.0.0 in /usr/local/lib/python3.6/dist-packages (from tb-nightly<1.14.0a20190604,>=1.14.0a20190603->tensorflow-gpu==2.0.0-beta1) (41.0.1)\n",
            "Requirement already satisfied: werkzeug>=0.11.15 in /usr/local/lib/python3.6/dist-packages (from tb-nightly<1.14.0a20190604,>=1.14.0a20190603->tensorflow-gpu==2.0.0-beta1) (0.15.4)\n",
            "Requirement already satisfied: h5py in /usr/local/lib/python3.6/dist-packages (from keras-applications>=1.0.6->tensorflow-gpu==2.0.0-beta1) (2.8.0)\n",
            "Installing collected packages: tb-nightly, tf-estimator-nightly, tensorflow-gpu\n",
            "Successfully installed tb-nightly-1.14.0a20190603 tensorflow-gpu-2.0.0b1 tf-estimator-nightly-1.14.0.dev2019060501\n",
            "2.0.0-beta1\n"
          ],
          "name": "stdout"
        }
      ]
    },
    {
      "cell_type": "code",
      "metadata": {
        "id": "n0fzSjPE_vT5",
        "colab_type": "code",
        "colab": {}
      },
      "source": [
        "from typing import List, Dict, Sequence, Tuple, Iterable"
      ],
      "execution_count": 0,
      "outputs": []
    },
    {
      "cell_type": "markdown",
      "metadata": {
        "colab_type": "text",
        "id": "wfodePkj3jEa"
      },
      "source": [
        "## Download and prepare the dataset\n",
        "\n",
        "We'll use a language dataset provided by http://www.manythings.org/anki/. This dataset contains language translation pairs in the format:\n",
        "\n",
        "> http://www.manythings.org/anki/ で提供されている言語データセットを使用します。このデータセットには次の形式の言語翻訳ペアが含まれています。\n",
        "\n",
        "```\n",
        "May I borrow this book?\t¿Puedo tomar prestado este libro?\n",
        "```\n",
        "\n",
        "There are a variety of languages available, but we'll use the English-Spanish dataset. For convenience, we've hosted a copy of this dataset on Google Cloud, but you can also download your own copy. After downloading the dataset, here are the steps we'll take to prepare the data:\n",
        "\n",
        "> さまざまな言語がありますが、ここでは英語 - スペイン語のデータセットを使用します。便宜上、このデータセットのコピーをGoogle Cloudでホストしていますが、自分のコピーをダウンロードすることもできます。データセットをダウンロードした後、データを準備するための手順は次のとおりです。\n",
        "\n",
        "1. Add a *start* and *end* token to each sentence.<br />各文に開始トークンと終了トークンを追加します。\n",
        "2. Clean the sentences by removing special characters.<br />特殊文字を削除して文章をきれいにします。\n",
        "3. Create a word index and reverse word index (dictionaries mapping from word → id and id → word).<br />単語インデクスと逆単語インデクスを作成します（単語→id と id→単語 のマッピング辞書）。\n",
        "4. Pad each sentence to a maximum length.<br />各文を最大長まで埋めます。"
      ]
    },
    {
      "cell_type": "code",
      "metadata": {
        "colab_type": "code",
        "id": "kRVATYOgJs1b",
        "outputId": "2664db1b-b849-44b7-8bac-40035f2fd7dd",
        "colab": {
          "base_uri": "https://localhost:8080/",
          "height": 51
        }
      },
      "source": [
        "# Download the file\n",
        "path_to_zip = tf.keras.utils.get_file(\n",
        "    'spa-eng.zip',\n",
        "    origin='http://storage.googleapis.com/download.tensorflow.org'\n",
        "        '/data/spa-eng.zip',\n",
        "    extract=True)\n",
        "\n",
        "path_to_file = os.path.dirname(path_to_zip) + '/spa-eng/spa.txt'"
      ],
      "execution_count": 0,
      "outputs": [
        {
          "output_type": "stream",
          "text": [
            "Downloading data from http://storage.googleapis.com/download.tensorflow.org/data/spa-eng.zip\n",
            "2646016/2638744 [==============================] - 0s 0us/step\n"
          ],
          "name": "stdout"
        }
      ]
    },
    {
      "cell_type": "code",
      "metadata": {
        "colab_type": "code",
        "id": "rd0jw-eC3jEh",
        "colab": {}
      },
      "source": [
        "# Converts the unicode file to ascii\n",
        "def unicode_to_ascii(s: str) -> str:\n",
        "    return ''.join(\n",
        "        c for c in unicodedata.normalize('NFD', s)\n",
        "        if unicodedata.category(c) != 'Mn')\n",
        "\n",
        "def preprocess_sentence(w: str) -> str:\n",
        "    w = unicode_to_ascii(w.lower().strip())\n",
        "    \n",
        "    # creating a space between a word and the punctuation following it\n",
        "    # eg: \"he is a boy.\" => \"he is a boy .\" \n",
        "    # Reference:- https://stackoverflow.com/questions/3645931\n",
        "    #     /python-padding-punctuation-with-white-spaces-keeping-punctuation\n",
        "    w = re.sub(r\"([?.!,¿])\", r\" \\1 \", w)\n",
        "    w = re.sub(r'[\" \"]+', \" \", w)\n",
        "    \n",
        "    # replacing everything with space except (a-z, A-Z, \".\", \"?\", \"!\", \",\")\n",
        "    w = re.sub(r\"[^a-zA-Z?.!,¿]+\", \" \", w)\n",
        "    \n",
        "    w = w.rstrip().strip()\n",
        "    \n",
        "    # adding a start and an end token to the sentence\n",
        "    # so that the model know when to start and stop predicting.\n",
        "    w = '<start> ' + w + ' <end>'\n",
        "    return w"
      ],
      "execution_count": 0,
      "outputs": []
    },
    {
      "cell_type": "code",
      "metadata": {
        "id": "nZ-OvGrnJHiA",
        "colab_type": "code",
        "outputId": "87c4577d-df22-4d18-8237-8a7c6c17014a",
        "colab": {
          "base_uri": "https://localhost:8080/",
          "height": 51
        }
      },
      "source": [
        "en_sentence = 'May I borrow this book?'\n",
        "sp_sentence = '¿Puedo tomar prestado este libro?'\n",
        "print(preprocess_sentence(en_sentence))\n",
        "print(preprocess_sentence(sp_sentence).encode('utf-8'))"
      ],
      "execution_count": 0,
      "outputs": [
        {
          "output_type": "stream",
          "text": [
            "<start> may i borrow this book ? <end>\n",
            "b'<start> \\xc2\\xbf puedo tomar prestado este libro ? <end>'\n"
          ],
          "name": "stdout"
        }
      ]
    },
    {
      "cell_type": "code",
      "metadata": {
        "colab_type": "code",
        "id": "OHn4Dct23jEm",
        "colab": {}
      },
      "source": [
        "# 1. Remove the accents\n",
        "# 2. Clean the sentences\n",
        "# 3. Return word pairs in the format: zip[ENGLISH(Tuple), SPANISH(Tuple)]\n",
        "def create_dataset(path: str, num_examples: int) -> zip:\n",
        "    lines = open(path, encoding='UTF-8').read().strip().split('\\n')\n",
        "    \n",
        "    word_pairs = [\n",
        "        [preprocess_sentence(w) for w in l.split('\\t')]\n",
        "        for l in lines[:num_examples]\n",
        "    ]\n",
        "    \n",
        "    return zip(*word_pairs)"
      ],
      "execution_count": 0,
      "outputs": []
    },
    {
      "cell_type": "code",
      "metadata": {
        "id": "ecBRQmSiMswx",
        "colab_type": "code",
        "outputId": "5cfd13f9-d2b1-4434-80d3-0922c4faee3b",
        "colab": {
          "base_uri": "https://localhost:8080/",
          "height": 71
        }
      },
      "source": [
        "en, sp = create_dataset(path_to_file, None)\n",
        "print(en[-1])\n",
        "print(sp[-1])"
      ],
      "execution_count": 0,
      "outputs": [
        {
          "output_type": "stream",
          "text": [
            "<start> if you want to sound like a native speaker , you must be willing to practice saying the same sentence over and over in the same way that banjo players practice the same phrase over and over until they can play it correctly and at the desired tempo . <end>\n",
            "<start> si quieres sonar como un hablante nativo , debes estar dispuesto a practicar diciendo la misma frase una y otra vez de la misma manera en que un musico de banjo practica el mismo fraseo una y otra vez hasta que lo puedan tocar correctamente y en el tiempo esperado . <end>\n"
          ],
          "name": "stdout"
        }
      ]
    },
    {
      "cell_type": "code",
      "metadata": {
        "id": "YW021kdSOZnN",
        "colab_type": "code",
        "colab": {}
      },
      "source": [
        "def max_length(tensor):\n",
        "    return max(len(t) for t in tensor)"
      ],
      "execution_count": 0,
      "outputs": []
    },
    {
      "cell_type": "code",
      "metadata": {
        "id": "fhHZb8PZOeCb",
        "colab_type": "code",
        "colab": {}
      },
      "source": [
        "def tokenize(\n",
        "    lang: Sequence[str]\n",
        ") -> Tuple[np.ndarray, tf.keras.preprocessing.text.Tokenizer]:\n",
        "    \n",
        "    lang_tokenizer = tf.keras.preprocessing.text.Tokenizer(filters='')\n",
        "    lang_tokenizer.fit_on_texts(lang)\n",
        "\n",
        "    tensor = lang_tokenizer.texts_to_sequences(lang)\n",
        "    tensor = tf.keras.preprocessing.sequence.pad_sequences(\n",
        "        tensor,\n",
        "        padding='post')\n",
        "\n",
        "    return tensor, lang_tokenizer"
      ],
      "execution_count": 0,
      "outputs": []
    },
    {
      "cell_type": "markdown",
      "metadata": {
        "id": "YRknl_MdO4D-",
        "colab_type": "text"
      },
      "source": [
        "> [Tokenizer](https://www.tensorflow.org/versions/r2.0/api_docs/python/tf/keras/preprocessing/text/Tokenizer)\n",
        "> <br />\n",
        "> [pad_sequences](https://www.tensorflow.org/versions/r2.0/api_docs/python/tf/keras/preprocessing/sequence/pad_sequences)"
      ]
    },
    {
      "cell_type": "code",
      "metadata": {
        "colab_type": "code",
        "id": "eAY9k49G3jE_",
        "colab": {}
      },
      "source": [
        "def load_dataset(path: str, num_examples: int = None):\n",
        "    # creating cleaned input, output pairs\n",
        "    targ_lang, inp_lang = create_dataset(path, num_examples)\n",
        "\n",
        "    input_tensor, inp_lang_tokenizer = tokenize(inp_lang)\n",
        "    target_tensor, targ_lang_tokenizer = tokenize(targ_lang)\n",
        "\n",
        "    return input_tensor, target_tensor, inp_lang_tokenizer, targ_lang_tokenizer"
      ],
      "execution_count": 0,
      "outputs": []
    },
    {
      "cell_type": "markdown",
      "metadata": {
        "colab_type": "text",
        "id": "GOi42V79Ydlr"
      },
      "source": [
        "### Limit the size of the dataset to experiment faster (optional)\n",
        "\n",
        "Training on the complete dataset of >100,000 sentences will take a long time. To train faster, we can limit the size of the dataset to 30,000 sentences (of course, translation quality degrades with less data):\n",
        "\n",
        "> 10万文を超える完全なデータセットのトレーニングには長い時間がかかります。より早く訓練するために、データセットのサイズを3万文に制限することができます（もちろん少ないデータでは翻訳品質が低下します）。"
      ]
    },
    {
      "cell_type": "code",
      "metadata": {
        "colab_type": "code",
        "id": "cnxC7q-j3jFD",
        "colab": {}
      },
      "source": [
        "# Try experimenting with the size of that dataset\n",
        "num_examples = None  # 30000\n",
        "input_tensor, target_tensor, inp_lang, targ_lang = load_dataset(\n",
        "    path_to_file,\n",
        "    num_examples)\n",
        "\n",
        "# Calculate max_length of the input tensors and the target tensors\n",
        "max_length_inp = max_length(input_tensor)\n",
        "max_length_targ = max_length(target_tensor)"
      ],
      "execution_count": 0,
      "outputs": []
    },
    {
      "cell_type": "code",
      "metadata": {
        "colab_type": "code",
        "id": "4QILQkOs3jFG",
        "outputId": "e614be39-6cf6-4e5a-a87e-24b1dc1f2894",
        "colab": {
          "base_uri": "https://localhost:8080/",
          "height": 34
        }
      },
      "source": [
        "# Creating training and validation sets using an 80-20 split\n",
        "(input_tensor_train, input_tensor_val,\n",
        " target_tensor_train, target_tensor_val) = train_test_split(\n",
        "    input_tensor,\n",
        "    target_tensor,\n",
        "    test_size=0.2)\n",
        "\n",
        "# Show length\n",
        "(len(input_tensor_train), len(target_tensor_train),\n",
        " len(input_tensor_val), len(target_tensor_val))"
      ],
      "execution_count": 0,
      "outputs": [
        {
          "output_type": "execute_result",
          "data": {
            "text/plain": [
              "(95171, 95171, 23793, 23793)"
            ]
          },
          "metadata": {
            "tags": []
          },
          "execution_count": 12
        }
      ]
    },
    {
      "cell_type": "code",
      "metadata": {
        "id": "8aasjzLnUGfl",
        "colab_type": "code",
        "colab": {}
      },
      "source": [
        "def convert(lang, tensor):\n",
        "    for t in tensor:\n",
        "        if t != 0:\n",
        "            print(\"%d ----> %s\" % (t, lang.index_word[t]))"
      ],
      "execution_count": 0,
      "outputs": []
    },
    {
      "cell_type": "code",
      "metadata": {
        "id": "rFaZEKk6UK4l",
        "colab_type": "code",
        "outputId": "515cb4bd-6af7-4016-e6dd-a43c62df94cd",
        "colab": {
          "base_uri": "https://localhost:8080/",
          "height": 289
        }
      },
      "source": [
        "print(\"Input Language; index to word mapping\")\n",
        "convert(inp_lang, input_tensor_train[0])\n",
        "print()\n",
        "print(\"Target Language; index to word mapping\")\n",
        "convert(targ_lang, target_tensor_train[0])"
      ],
      "execution_count": 0,
      "outputs": [
        {
          "output_type": "stream",
          "text": [
            "Input Language; index to word mapping\n",
            "1 ----> <start>\n",
            "2188 ----> ponte\n",
            "6 ----> el\n",
            "682 ----> sombrero\n",
            "3 ----> .\n",
            "2 ----> <end>\n",
            "\n",
            "Target Language; index to word mapping\n",
            "1 ----> <start>\n",
            "175 ----> put\n",
            "35 ----> your\n",
            "698 ----> hat\n",
            "36 ----> on\n",
            "3 ----> .\n",
            "2 ----> <end>\n"
          ],
          "name": "stdout"
        }
      ]
    },
    {
      "cell_type": "markdown",
      "metadata": {
        "colab_type": "text",
        "id": "rgCLkfv5uO3d"
      },
      "source": [
        "### Create a tf.data dataset"
      ]
    },
    {
      "cell_type": "code",
      "metadata": {
        "colab_type": "code",
        "id": "TqHsArVZ3jFS",
        "colab": {}
      },
      "source": [
        "BUFFER_SIZE = len(input_tensor_train)\n",
        "BATCH_SIZE = 64\n",
        "steps_per_epoch = BUFFER_SIZE // BATCH_SIZE\n",
        "embedding_dim = 256\n",
        "units = 1024\n",
        "vocab_inp_size = len(inp_lang.word_index) + 1\n",
        "vocab_tar_size = len(targ_lang.word_index) + 1\n",
        "\n",
        "dataset = tf.data.Dataset.from_tensor_slices(\n",
        "    (input_tensor_train, target_tensor_train)).shuffle(BUFFER_SIZE)\n",
        "dataset = dataset.batch(BATCH_SIZE, drop_remainder=True)"
      ],
      "execution_count": 0,
      "outputs": []
    },
    {
      "cell_type": "markdown",
      "metadata": {
        "id": "SOudl4Vq2I8u",
        "colab_type": "text"
      },
      "source": [
        "> [from_tensor_slices](https://www.tensorflow.org/versions/r2.0/api_docs/python/tf/data/Dataset#from_tensor_slices)"
      ]
    },
    {
      "cell_type": "code",
      "metadata": {
        "id": "x6SAZjy9UhtQ",
        "colab_type": "code",
        "outputId": "f2385886-9817-460e-a47b-0dd2274c8e94",
        "colab": {
          "base_uri": "https://localhost:8080/",
          "height": 34
        }
      },
      "source": [
        "example_input_batch, example_target_batch = next(iter(dataset))\n",
        "example_input_batch.shape, example_target_batch.shape"
      ],
      "execution_count": 0,
      "outputs": [
        {
          "output_type": "execute_result",
          "data": {
            "text/plain": [
              "(TensorShape([64, 53]), TensorShape([64, 51]))"
            ]
          },
          "metadata": {
            "tags": []
          },
          "execution_count": 16
        }
      ]
    },
    {
      "cell_type": "markdown",
      "metadata": {
        "id": "m7sIs-GxNb3r",
        "colab_type": "text"
      },
      "source": [
        "## Write the encoder and decoder model\n",
        "\n",
        "Here, we'll implement an encoder-decoder model with attention which you can read about in the TensorFlow [Neural Machine Translation (seq2seq) tutorial](https://github.com/tensorflow/nmt). This example uses a more recent set of APIs. This notebook implements the [attention equations](https://github.com/tensorflow/nmt#background-on-the-attention-mechanism) from the seq2seq tutorial. The following diagram shows that each input word is assigned a weight by the attention mechanism which is then used by the decoder to predict the next word in the sentence.\n",
        "\n",
        "> ここでは TensorFlow [Neural Machine Translation(seq2seq) チュートリアル](https://github.com/tensorflow/nmt)で読むことができる、Attention付きエンコーダー - デコーダーモデルを実装します。この例ではより新しい一連の API を使用しています。このノートブックは seq2seq チュートリアルから [Attention 計算式](https://github.com/tensorflow/nmt#background-on-the-attention-mechanism)を実装します。次の図は、各入力単語に Attention メカニズムによって重みが割り当てられていることを示しています。このメカニズムは文章内の次の単語を予測するためにデコーダーによって使用されます。\n",
        "\n",
        "<img src=\"https://www.tensorflow.org/images/seq2seq/attention_mechanism.jpg\" width=\"500\" alt=\"attention mechanism\">"
      ]
    },
    {
      "cell_type": "markdown",
      "metadata": {
        "colab_type": "text",
        "id": "TNfHIF71ulLu"
      },
      "source": [
        "The input is put through an encoder model which gives us the encoder output of shape *(batch_size, max_length, hidden_size)* and the encoder hidden state of shape *(batch_size, hidden_size)*. \n",
        "\n",
        "> 入力はエンコーダーモデルを通過します。これにより形状が  *(batch_size, max_length, hidden_size)* のエンコーダー出力と、形状が *(batch_size, hidden_size)* のエンコーダー隠れ状態が得られます。\n",
        "\n",
        "Here are the equations that are implemented:\n",
        "\n",
        "> これが実装される計算式です：\n",
        "\n",
        "<img src=\"https://www.tensorflow.org/images/seq2seq/attention_equation_0.jpg\" alt=\"attention equation 0\" width=\"800\">\n",
        "<img src=\"https://www.tensorflow.org/images/seq2seq/attention_equation_1.jpg\" alt=\"attention equation 1\" width=\"800\">\n",
        "\n",
        "We're using [*Bahdanau attention*](https://arxiv.org/pdf/1409.0473.pdf). Lets decide on notation before writing the simplified form:\n",
        "\n",
        "> 私たちは [*Bahdanau attention*](https://arxiv.org/pdf/1409.0473.pdf) を使います。簡略形で書く前に表記法を決めましょう。\n",
        "\n",
        "* FC = Fully connected (dense) layer\n",
        "* EO = Encoder output\n",
        "* H = hidden state\n",
        "* X = input to the decoder\n",
        "\n",
        "And the pseudo-code:\n",
        "\n",
        ">そして擬似コードです。\n",
        "\n",
        "* `score = FC(tanh(FC(EO) + FC(H)))`<br />\n",
        "> メモ：全結合層は入力と内部の重みの行列積を計算するレイヤーのため、計算式中で $W_1$ や $v_a$ などの重みとの積の部分は `FC` により表現できる。ここで $h_t$ = `H`、$\\bar{h}_s$ = `EO` 。\n",
        "* `attention weights = softmax(score, axis = 1)`<br />\n",
        "Softmax by default is applied on the last axis but here we want to apply it on the *1st axis*, since the shape of score is *(batch_size, max_length, 1)*. `Max_length` is the length of our input. Since we are trying to assign a weight to each input, softmax should be applied on that axis.<br />\n",
        "Softmax はデフォルトでは最後の軸に適用されますが、ここではスコアの形状が *(batch_size, max_length, 1)* であるため、*1番目の軸* に適用します。 `Max_length` は私達の入力の長さです。各入力に重みを割り当てようとしているので softmax をその軸に適用する必要があります。\n",
        "* `context vector = sum(attention weights * EO, axis = 1)`<br />\n",
        "Same reason as above for choosing axis as 1.<br />1番目の軸を選択したのは上と同じ理由です。\n",
        "* `embedding output` = The input to the decoder X is passed through an embedding layer.<br />デコーダーへの入力 X は埋め込み層を通過します。\n",
        "* `merged vector = concat(embedding output, context vector)`\n",
        "* This merged vector is then given to the GRU<br />このマージされたベクトルは GRU に渡されます\n",
        "  \n",
        "The shapes of all the vectors at each step have been specified in the comments in the code:\n",
        "\n",
        "> 各ステップのすべてのベクトルの形状はコード内のコメントで指定されています。"
      ]
    },
    {
      "cell_type": "code",
      "metadata": {
        "colab_type": "code",
        "id": "nZ2rI24i3jFg",
        "colab": {}
      },
      "source": [
        "class Encoder(tf.keras.Model):\n",
        "    def __init__(\n",
        "            self,\n",
        "            vocab_size: int,  # 語彙数\n",
        "            embedding_dim: int,  # 埋め込みレイヤーで出力する密ベクトルの次元数\n",
        "            enc_units: int,  # Encoder(のGRU）の出力次元数\n",
        "            batch_sz: int):  # バッチサイズ\n",
        "\n",
        "        super(Encoder, self).__init__()\n",
        "        self.batch_sz = batch_sz\n",
        "        self.enc_units = enc_units\n",
        "        self.embedding = tf.keras.layers.Embedding(vocab_size, embedding_dim)\n",
        "        self.gru = tf.keras.layers.GRU(\n",
        "            self.enc_units,\n",
        "            return_sequences=True,\n",
        "            return_state=True,\n",
        "            recurrent_initializer='glorot_uniform')\n",
        "\n",
        "    # 入力 x は int の ndarray を convert_to_tensor() したもの\n",
        "    # 型としては tensorflow.python.framework.ops.EagerTensor …\n",
        "    # hidden は初回は initialze_hidden_state で返却したものが渡ってくる\n",
        "    def call(self, x, hidden):\n",
        "        x = self.embedding(x)\n",
        "        output, state = self.gru(x, initial_state=hidden)\n",
        "        return output, state\n",
        "    \n",
        "    def initialize_hidden_state(self):\n",
        "        return tf.zeros((self.batch_sz, self.enc_units))"
      ],
      "execution_count": 0,
      "outputs": []
    },
    {
      "cell_type": "markdown",
      "metadata": {
        "id": "eZeCPb-zC2Rt",
        "colab_type": "text"
      },
      "source": [
        "> [Embedding](https://www.tensorflow.org/versions/r2.0/api_docs/python/tf/keras/layers/Embedding)\n",
        "> <br />\n",
        "> <br />Embedding レイヤーは入力の整数値（単語ID）を固定長の密ベクトルに変換する。第1引数 input_dim は語彙数。第2引数 output_dim は出力する密ベクトルの次元数。\n",
        "\n",
        "> [GRU](https://www.tensorflow.org/versions/r2.0/api_docs/python/tf/keras/layers/GRU)\n",
        "> <br />\n",
        "> <br />※GPUが使われる条件について抜粋※\n",
        "> <br />利用可能なランタイムハードウェアと制約に基づいて、このレイヤーはパフォーマンス最大化のため異なる実装（cuDNNベースまたは純粋なTensorFlow）を選択します。 GPUが利用可能で、レイヤーに対するすべての引数がCuDNNカーネルの要件を満たす場合（詳細は下記を参照）、高速なcuDNN実装を使用します。\n",
        "> <br />\n",
        "> <br />cuDNN実装を使用するための要件は次のとおりです。\n",
        "> <br />\n",
        "> 1. activation == 'tanh'\n",
        "> 1. recurrent_activation == 'sigmoid'\n",
        "> 1. recurrent_dropout == 0\n",
        "> 1. unroll is False\n",
        "> 1. use_bias is True\n",
        "> 1. reset_after is True\n",
        "> 1. 入力がマスクされていないか、厳密に右詰めされている\n",
        "> <br />メモ：1 ～ 6 は既定値のため、この入力値の条件さえ満たせば GPU が使われる"
      ]
    },
    {
      "cell_type": "code",
      "metadata": {
        "id": "fHopunMuVtIl",
        "colab_type": "code",
        "outputId": "849257d9-c57b-4660-c97a-ea5c589a2dbe",
        "colab": {
          "base_uri": "https://localhost:8080/",
          "height": 51
        }
      },
      "source": [
        "encoder = Encoder(vocab_inp_size, embedding_dim, units, BATCH_SIZE)\n",
        "\n",
        "# sample input\n",
        "sample_hidden = encoder.initialize_hidden_state()\n",
        "sample_output, sample_hidden = encoder(example_input_batch, sample_hidden)\n",
        "print('Encoder output shape: (batch size, sequence length, units) '\n",
        "      f'{sample_output.shape}')\n",
        "print('Encoder Hidden state shape: (batch size, units) '\n",
        "      f'{sample_hidden.shape}')"
      ],
      "execution_count": 0,
      "outputs": [
        {
          "output_type": "stream",
          "text": [
            "Encoder output shape: (batch size, sequence length, units) (64, 53, 1024)\n",
            "Encoder Hidden state shape: (batch size, units) (64, 1024)\n"
          ],
          "name": "stdout"
        }
      ]
    },
    {
      "cell_type": "code",
      "metadata": {
        "id": "ppX7ygDWC8uw",
        "colab_type": "code",
        "colab": {}
      },
      "source": [
        "class BahdanauAttention(tf.keras.Model):\n",
        "    def __init__(self, units):\n",
        "        super(BahdanauAttention, self).__init__()\n",
        "        self.W1 = tf.keras.layers.Dense(units)\n",
        "        self.W2 = tf.keras.layers.Dense(units)\n",
        "        self.V = tf.keras.layers.Dense(1)\n",
        "\n",
        "    def call(self, query, values):\n",
        "        # hidden shape == (batch_size, hidden size)\n",
        "        # hidden_with_time_axis shape == (batch_size, 1, hidden size)\n",
        "        # we are doing this to perform addition to calculate the score\n",
        "        hidden_with_time_axis = tf.expand_dims(query, 1)\n",
        "\n",
        "        # score shape == (batch_size, max_length, 1)\n",
        "        # we get 1 at the last axis because we are applying score to self.V\n",
        "        # the shape of the tensor before applying self.V is\n",
        "        # (batch_size, max_length, units)\n",
        "        score = self.V(tf.nn.tanh(\n",
        "            self.W1(values) + self.W2(hidden_with_time_axis)))\n",
        "\n",
        "        # attention_weights shape == (batch_size, max_length, 1)\n",
        "        attention_weights = tf.nn.softmax(score, axis=1)\n",
        "\n",
        "        # context_vector shape after sum == (batch_size, hidden_size)\n",
        "        context_vector = attention_weights * values\n",
        "        context_vector = tf.reduce_sum(context_vector, axis=1)\n",
        "\n",
        "        return context_vector, attention_weights"
      ],
      "execution_count": 0,
      "outputs": []
    },
    {
      "cell_type": "code",
      "metadata": {
        "colab_type": "code",
        "id": "yJ_B3mhW3jFk",
        "colab": {}
      },
      "source": [
        "class Decoder(tf.keras.Model):\n",
        "    def __init__(\n",
        "        self,\n",
        "        vocab_size: int,  # 語彙数\n",
        "        embedding_dim: int,  # 埋め込みレイヤーで出力する密ベクトルの次元数\n",
        "        dec_units: int,  # GRU の出力次元数\n",
        "        batch_sz: int):  # バッチサイズ\n",
        "\n",
        "        super(Decoder, self).__init__()\n",
        "        self.batch_sz = batch_sz\n",
        "        self.dec_units = dec_units\n",
        "        self.embedding = tf.keras.layers.Embedding(vocab_size, embedding_dim)\n",
        "        self.gru = tf.keras.layers.GRU(\n",
        "            self.dec_units,\n",
        "            return_sequences=True,  # 入力の全単語分の出力を返す\n",
        "            return_state=True,  # 隠れ状態を返す\n",
        "            recurrent_initializer='glorot_uniform')\n",
        "        self.fc = tf.keras.layers.Dense(vocab_size)\n",
        "        \n",
        "        # used for attention\n",
        "        self.attention = BahdanauAttention(self.dec_units)\n",
        "        \n",
        "    def call(self, x, hidden, enc_output):\n",
        "        # enc_output shape == (batch_size, max_length, hidden_size)\n",
        "        context_vector, attention_weights = self.attention(hidden, enc_output)\n",
        "\n",
        "        # x shape after passing through embedding ==\n",
        "        # (batch_size, 1, embedding_dim)\n",
        "        x = self.embedding(x)\n",
        "        \n",
        "        # x shape after concatenation == \n",
        "        # (batch_size, 1, embedding_dim + hidden_size)\n",
        "        x = tf.concat([tf.expand_dims(context_vector, 1), x], axis=-1)\n",
        "        \n",
        "        # passing the concatenated vector to the GRU\n",
        "        output, state = self.gru(x)\n",
        "        \n",
        "        # output shape == (batch_size * 1, hidden_size)\n",
        "        output = tf.reshape(output, (-1, output.shape[2]))\n",
        "        \n",
        "        # output shape == (batch_size, vocab)\n",
        "        x = self.fc(output)\n",
        "        \n",
        "        return x, state, attention_weights"
      ],
      "execution_count": 0,
      "outputs": []
    },
    {
      "cell_type": "code",
      "metadata": {
        "colab_type": "code",
        "id": "P5UY8wko3jFp",
        "outputId": "5c265de9-ddc6-4b1f-f6de-7f9e84456135",
        "colab": {
          "base_uri": "https://localhost:8080/",
          "height": 34
        }
      },
      "source": [
        "decoder = Decoder(vocab_tar_size, embedding_dim, units, BATCH_SIZE)\n",
        "\n",
        "sample_decoder_output, _, _ = decoder(\n",
        "    tf.random.uniform((BATCH_SIZE, 1)),\n",
        "    sample_hidden,\n",
        "    sample_output)\n",
        "\n",
        "print('Decoder output shape: (batch_size, vocab size) '\n",
        "      f'{sample_decoder_output.shape}')"
      ],
      "execution_count": 0,
      "outputs": [
        {
          "output_type": "stream",
          "text": [
            "Decoder output shape: (batch_size, vocab size) (64, 12934)\n"
          ],
          "name": "stdout"
        }
      ]
    },
    {
      "cell_type": "markdown",
      "metadata": {
        "colab_type": "text",
        "id": "_ch_71VbIRfK"
      },
      "source": [
        "## Define the optimizer and the loss function"
      ]
    },
    {
      "cell_type": "code",
      "metadata": {
        "colab_type": "code",
        "id": "WmTHr5iV3jFr",
        "colab": {}
      },
      "source": [
        "optimizer = tf.keras.optimizers.Adam()\n",
        "loss_object = tf.keras.losses.SparseCategoricalCrossentropy(\n",
        "    from_logits=True,\n",
        "    reduction='none')\n",
        "\n",
        "def loss_function(real, pred):\n",
        "    mask = tf.math.logical_not(tf.math.equal(real, 0))\n",
        "    loss_ = loss_object(real, pred)\n",
        "    \n",
        "    mask = tf.cast(mask, dtype=loss_.dtype)\n",
        "    loss_ *= mask\n",
        "\n",
        "    return tf.reduce_mean(loss_)"
      ],
      "execution_count": 0,
      "outputs": []
    },
    {
      "cell_type": "markdown",
      "metadata": {
        "id": "CrO56RpJ3OV_",
        "colab_type": "text"
      },
      "source": [
        "> [Adam](https://www.tensorflow.org/versions/r2.0/api_docs/python/tf/keras/optimizers/Adam)\n",
        "> <br />\n",
        "> [SparseCategoricalCrossentropy](https://www.tensorflow.org/versions/r2.0/api_docs/python/tf/keras/losses/SparseCategoricalCrossentropy)\n",
        "> <br />\n",
        "> [sparse_softmax_cross_entropy_with_logits](https://www.tensorflow.org/versions/r2.0/api_docs/python/tf/nn/sparse_softmax_cross_entropy_with_logits)"
      ]
    },
    {
      "cell_type": "markdown",
      "metadata": {
        "colab_type": "text",
        "id": "DMVWzzsfNl4e"
      },
      "source": [
        "## Checkpoints (Object-based saving)"
      ]
    },
    {
      "cell_type": "code",
      "metadata": {
        "colab_type": "code",
        "id": "Zj8bXQTgNwrF",
        "colab": {}
      },
      "source": [
        "checkpoint_dir = './training_checkpoints'\n",
        "checkpoint_prefix = os.path.join(checkpoint_dir, \"ckpt\")\n",
        "checkpoint = tf.train.Checkpoint(\n",
        "    optimizer=optimizer,\n",
        "    encoder=encoder,\n",
        "    decoder=decoder)"
      ],
      "execution_count": 0,
      "outputs": []
    },
    {
      "cell_type": "markdown",
      "metadata": {
        "id": "Ubi7sTRv3Tey",
        "colab_type": "text"
      },
      "source": [
        "> [Checkpoint](https://www.tensorflow.org/versions/r2.0/api_docs/python/tf/train/Checkpoint)"
      ]
    },
    {
      "cell_type": "markdown",
      "metadata": {
        "colab_type": "text",
        "id": "hpObfY22IddU"
      },
      "source": [
        "## Training\n",
        "\n",
        "1. Pass the *input* through the *encoder* which return *encoder output* and the *encoder hidden state*.\n",
        "<br />出力と隠れ状態を返すエンコーダーに入力を渡します。\n",
        "2. The encoder output, encoder hidden state and the decoder input (which is the *start token*) is passed to the decoder.\n",
        "<br />エンコーダーの出力と隠れ状態、およびデコーダー入力（開始トークン）がデコーダーに渡されます。\n",
        "3. The decoder returns the *predictions* and the *decoder hidden state*.\n",
        "<br />デコーダーは予測結果とデコーダー隠れ状態を返します。\n",
        "4. The decoder hidden state is then passed back into the model and the predictions are used to calculate the loss.\n",
        "<br />デコーダー隠れ状態がモデルに戻され、予測結果が損失の計算に使用されます。\n",
        "5. Use *teacher forcing* to decide the next input to the decoder.\n",
        "<br />デコーダーへの次の入力を決定するために *teacher forcing* を使用します。\n",
        "6. *Teacher forcing* is the technique where the *target word* is passed as the *next input* to the decoder.\n",
        "<br />*Teacher forcing* は目標（正解）の単語を次の入力としてデコーダーに渡す手法です。\n",
        "7. The final step is to calculate the gradients and apply it to the optimizer and backpropagate.\n",
        "<br />最後のステップは勾配を計算し、それをオプティマイザーに適用して逆伝播することです。"
      ]
    },
    {
      "cell_type": "code",
      "metadata": {
        "id": "w93Jp3bxMAPF",
        "colab_type": "code",
        "colab": {}
      },
      "source": [
        "@tf.function\n",
        "def train_step(inp, targ, enc_hidden):\n",
        "    loss = 0\n",
        "\n",
        "    with tf.GradientTape() as tape:\n",
        "        enc_output, enc_hidden = encoder(inp, enc_hidden)\n",
        "\n",
        "        dec_hidden = enc_hidden\n",
        "\n",
        "        dec_input = tf.expand_dims(\n",
        "            [targ_lang.word_index['<start>']] * BATCH_SIZE, 1)\n",
        "\n",
        "        # Teacher forcing - feeding the target as the next input\n",
        "        for t in range(1, targ.shape[1]):\n",
        "            # passing enc_output to the decoder\n",
        "            predictions, dec_hidden, _ = decoder(\n",
        "                dec_input,\n",
        "                dec_hidden,\n",
        "                enc_output)\n",
        "\n",
        "            loss += loss_function(targ[:, t], predictions)\n",
        "\n",
        "            # using teacher forcing\n",
        "            dec_input = tf.expand_dims(targ[:, t], 1)\n",
        "\n",
        "    batch_loss = (loss / int(targ.shape[1]))\n",
        "\n",
        "    variables = encoder.trainable_variables + decoder.trainable_variables\n",
        "\n",
        "    gradients = tape.gradient(loss, variables)\n",
        "\n",
        "    optimizer.apply_gradients(zip(gradients, variables))\n",
        "    \n",
        "    return batch_loss"
      ],
      "execution_count": 0,
      "outputs": []
    },
    {
      "cell_type": "code",
      "metadata": {
        "colab_type": "code",
        "id": "ddefjBMa3jF0",
        "outputId": "4c5a2383-c860-4dc9-e932-246a4e8d13d4",
        "colab": {
          "base_uri": "https://localhost:8080/",
          "height": 1000
        }
      },
      "source": [
        "EPOCHS = 10\n",
        "\n",
        "for epoch in range(EPOCHS):\n",
        "    start = time.time()\n",
        "\n",
        "    enc_hidden = encoder.initialize_hidden_state()\n",
        "    total_loss = 0\n",
        "\n",
        "    for (batch, (inp, targ)) in enumerate(dataset.take(steps_per_epoch)):\n",
        "        batch_loss = train_step(inp, targ, enc_hidden)\n",
        "        total_loss += batch_loss\n",
        "\n",
        "        if batch % 100 == 0:\n",
        "            print(f'Epoch {epoch + 1} Batch {batch} '\n",
        "                  f'Loss {batch_loss.numpy():.4f}')\n",
        "\n",
        "    # saving (checkpoint) the model every 2 epochs\n",
        "    if (epoch + 1) % 2 == 0:\n",
        "        checkpoint.save(file_prefix = checkpoint_prefix)\n",
        "    \n",
        "    print(f'Epoch {epoch + 1} Loss {total_loss / steps_per_epoch:.4f}')\n",
        "    print(f'Time taken for 1 epoch {time.time() - start} sec\\n')"
      ],
      "execution_count": 0,
      "outputs": [
        {
          "output_type": "stream",
          "text": [
            "Epoch 1 Batch 0 Loss 1.5141\n",
            "Epoch 1 Batch 100 Loss 0.8705\n",
            "Epoch 1 Batch 200 Loss 0.8319\n",
            "Epoch 1 Batch 300 Loss 0.7555\n",
            "Epoch 1 Batch 400 Loss 0.6828\n",
            "Epoch 1 Batch 500 Loss 0.6278\n",
            "Epoch 1 Batch 600 Loss 0.7035\n",
            "Epoch 1 Batch 700 Loss 0.5597\n",
            "Epoch 1 Batch 800 Loss 0.6325\n",
            "Epoch 1 Batch 900 Loss 0.5772\n",
            "Epoch 1 Batch 1000 Loss 0.5945\n",
            "Epoch 1 Batch 1100 Loss 0.5523\n",
            "Epoch 1 Batch 1200 Loss 0.5225\n",
            "Epoch 1 Batch 1300 Loss 0.5209\n",
            "Epoch 1 Batch 1400 Loss 0.5135\n",
            "Epoch 1 Loss 0.6386\n",
            "Time taken for 1 epoch 1195.2051565647125 sec\n",
            "\n",
            "Epoch 2 Batch 0 Loss 0.4638\n",
            "Epoch 2 Batch 100 Loss 0.4154\n",
            "Epoch 2 Batch 200 Loss 0.4725\n",
            "Epoch 2 Batch 300 Loss 0.4313\n",
            "Epoch 2 Batch 400 Loss 0.3725\n",
            "Epoch 2 Batch 500 Loss 0.3484\n",
            "Epoch 2 Batch 600 Loss 0.4036\n",
            "Epoch 2 Batch 700 Loss 0.3237\n",
            "Epoch 2 Batch 800 Loss 0.3503\n",
            "Epoch 2 Batch 900 Loss 0.3102\n",
            "Epoch 2 Batch 1000 Loss 0.3135\n",
            "Epoch 2 Batch 1100 Loss 0.2782\n",
            "Epoch 2 Batch 1200 Loss 0.2917\n",
            "Epoch 2 Batch 1300 Loss 0.2927\n",
            "Epoch 2 Batch 1400 Loss 0.3001\n",
            "Epoch 2 Loss 0.3462\n",
            "Time taken for 1 epoch 1085.4666738510132 sec\n",
            "\n",
            "Epoch 3 Batch 0 Loss 0.2805\n",
            "Epoch 3 Batch 100 Loss 0.2229\n",
            "Epoch 3 Batch 200 Loss 0.2915\n",
            "Epoch 3 Batch 300 Loss 0.2738\n",
            "Epoch 3 Batch 400 Loss 0.2212\n",
            "Epoch 3 Batch 500 Loss 0.2165\n",
            "Epoch 3 Batch 600 Loss 0.2605\n",
            "Epoch 3 Batch 700 Loss 0.2022\n",
            "Epoch 3 Batch 800 Loss 0.2290\n",
            "Epoch 3 Batch 900 Loss 0.1942\n",
            "Epoch 3 Batch 1000 Loss 0.1871\n",
            "Epoch 3 Batch 1100 Loss 0.1865\n",
            "Epoch 3 Batch 1200 Loss 0.1958\n",
            "Epoch 3 Batch 1300 Loss 0.1649\n",
            "Epoch 3 Batch 1400 Loss 0.2070\n",
            "Epoch 3 Loss 0.2154\n",
            "Time taken for 1 epoch 1083.6763894557953 sec\n",
            "\n",
            "Epoch 4 Batch 0 Loss 0.1952\n",
            "Epoch 4 Batch 100 Loss 0.1489\n",
            "Epoch 4 Batch 200 Loss 0.1969\n",
            "Epoch 4 Batch 300 Loss 0.1832\n",
            "Epoch 4 Batch 400 Loss 0.1511\n",
            "Epoch 4 Batch 500 Loss 0.1447\n",
            "Epoch 4 Batch 600 Loss 0.1901\n",
            "Epoch 4 Batch 700 Loss 0.1429\n",
            "Epoch 4 Batch 800 Loss 0.1599\n",
            "Epoch 4 Batch 900 Loss 0.1424\n",
            "Epoch 4 Batch 1000 Loss 0.1212\n",
            "Epoch 4 Batch 1100 Loss 0.1396\n",
            "Epoch 4 Batch 1200 Loss 0.1468\n",
            "Epoch 4 Batch 1300 Loss 0.1082\n",
            "Epoch 4 Batch 1400 Loss 0.1502\n",
            "Epoch 4 Loss 0.1508\n",
            "Time taken for 1 epoch 1084.803064584732 sec\n",
            "\n",
            "Epoch 5 Batch 0 Loss 0.1386\n",
            "Epoch 5 Batch 100 Loss 0.1180\n",
            "Epoch 5 Batch 200 Loss 0.1519\n",
            "Epoch 5 Batch 300 Loss 0.1385\n",
            "Epoch 5 Batch 400 Loss 0.1347\n",
            "Epoch 5 Batch 500 Loss 0.1029\n",
            "Epoch 5 Batch 600 Loss 0.1395\n",
            "Epoch 5 Batch 700 Loss 0.1077\n",
            "Epoch 5 Batch 800 Loss 0.1273\n",
            "Epoch 5 Batch 900 Loss 0.1017\n",
            "Epoch 5 Batch 1000 Loss 0.0938\n",
            "Epoch 5 Batch 1100 Loss 0.1043\n",
            "Epoch 5 Batch 1200 Loss 0.1222\n",
            "Epoch 5 Batch 1300 Loss 0.0743\n",
            "Epoch 5 Batch 1400 Loss 0.1095\n",
            "Epoch 5 Loss 0.1135\n",
            "Time taken for 1 epoch 1081.821839094162 sec\n",
            "\n",
            "Epoch 6 Batch 0 Loss 0.1029\n",
            "Epoch 6 Batch 100 Loss 0.0758\n",
            "Epoch 6 Batch 200 Loss 0.1230\n",
            "Epoch 6 Batch 300 Loss 0.1055\n",
            "Epoch 6 Batch 400 Loss 0.0978\n",
            "Epoch 6 Batch 500 Loss 0.0781\n",
            "Epoch 6 Batch 600 Loss 0.1037\n",
            "Epoch 6 Batch 700 Loss 0.0815\n",
            "Epoch 6 Batch 800 Loss 0.0960\n",
            "Epoch 6 Batch 900 Loss 0.0806\n",
            "Epoch 6 Batch 1000 Loss 0.0724\n",
            "Epoch 6 Batch 1100 Loss 0.0808\n",
            "Epoch 6 Batch 1200 Loss 0.0914\n",
            "Epoch 6 Batch 1300 Loss 0.0578\n",
            "Epoch 6 Batch 1400 Loss 0.0873\n",
            "Epoch 6 Loss 0.0882\n",
            "Time taken for 1 epoch 1083.3765573501587 sec\n",
            "\n",
            "Epoch 7 Batch 0 Loss 0.0831\n",
            "Epoch 7 Batch 100 Loss 0.0646\n",
            "Epoch 7 Batch 200 Loss 0.0927\n",
            "Epoch 7 Batch 300 Loss 0.0871\n",
            "Epoch 7 Batch 400 Loss 0.0821\n",
            "Epoch 7 Batch 500 Loss 0.0627\n",
            "Epoch 7 Batch 600 Loss 0.0865\n",
            "Epoch 7 Batch 700 Loss 0.0763\n",
            "Epoch 7 Batch 800 Loss 0.0744\n",
            "Epoch 7 Batch 900 Loss 0.0753\n",
            "Epoch 7 Batch 1000 Loss 0.0779\n",
            "Epoch 7 Batch 1100 Loss 0.0664\n",
            "Epoch 7 Batch 1200 Loss 0.0840\n",
            "Epoch 7 Batch 1300 Loss 0.0553\n",
            "Epoch 7 Batch 1400 Loss 0.0793\n",
            "Epoch 7 Loss 0.0727\n",
            "Time taken for 1 epoch 1081.0256087779999 sec\n",
            "\n",
            "Epoch 8 Batch 0 Loss 0.0710\n",
            "Epoch 8 Batch 100 Loss 0.0509\n",
            "Epoch 8 Batch 200 Loss 0.0759\n",
            "Epoch 8 Batch 300 Loss 0.0681\n",
            "Epoch 8 Batch 400 Loss 0.0709\n",
            "Epoch 8 Batch 500 Loss 0.0545\n",
            "Epoch 8 Batch 600 Loss 0.0646\n",
            "Epoch 8 Batch 700 Loss 0.0545\n",
            "Epoch 8 Batch 800 Loss 0.0557\n",
            "Epoch 8 Batch 900 Loss 0.0578\n",
            "Epoch 8 Batch 1000 Loss 0.0426\n",
            "Epoch 8 Batch 1100 Loss 0.0465\n",
            "Epoch 8 Batch 1200 Loss 0.0671\n",
            "Epoch 8 Batch 1300 Loss 0.0431\n",
            "Epoch 8 Batch 1400 Loss 0.0595\n",
            "Epoch 8 Loss 0.0573\n",
            "Time taken for 1 epoch 1083.2719917297363 sec\n",
            "\n",
            "Epoch 9 Batch 0 Loss 0.0524\n",
            "Epoch 9 Batch 100 Loss 0.0428\n",
            "Epoch 9 Batch 200 Loss 0.0596\n",
            "Epoch 9 Batch 300 Loss 0.0477\n",
            "Epoch 9 Batch 400 Loss 0.0516\n",
            "Epoch 9 Batch 500 Loss 0.0462\n",
            "Epoch 9 Batch 600 Loss 0.0707\n",
            "Epoch 9 Batch 700 Loss 0.0454\n",
            "Epoch 9 Batch 800 Loss 0.0465\n",
            "Epoch 9 Batch 900 Loss 0.0468\n",
            "Epoch 9 Batch 1000 Loss 0.0307\n",
            "Epoch 9 Batch 1100 Loss 0.0479\n",
            "Epoch 9 Batch 1200 Loss 0.0543\n",
            "Epoch 9 Batch 1300 Loss 0.0308\n",
            "Epoch 9 Batch 1400 Loss 0.0563\n",
            "Epoch 9 Loss 0.0474\n",
            "Time taken for 1 epoch 1080.529726266861 sec\n",
            "\n",
            "Epoch 10 Batch 0 Loss 0.0500\n",
            "Epoch 10 Batch 100 Loss 0.0473\n",
            "Epoch 10 Batch 200 Loss 0.0557\n",
            "Epoch 10 Batch 300 Loss 0.0420\n",
            "Epoch 10 Batch 400 Loss 0.0498\n",
            "Epoch 10 Batch 500 Loss 0.0403\n",
            "Epoch 10 Batch 600 Loss 0.0503\n",
            "Epoch 10 Batch 700 Loss 0.0393\n",
            "Epoch 10 Batch 800 Loss 0.0439\n",
            "Epoch 10 Batch 900 Loss 0.0380\n",
            "Epoch 10 Batch 1000 Loss 0.0263\n",
            "Epoch 10 Batch 1100 Loss 0.0442\n",
            "Epoch 10 Batch 1200 Loss 0.0512\n",
            "Epoch 10 Batch 1300 Loss 0.0357\n",
            "Epoch 10 Batch 1400 Loss 0.0549\n",
            "Epoch 10 Loss 0.0419\n",
            "Time taken for 1 epoch 1084.0447499752045 sec\n",
            "\n"
          ],
          "name": "stdout"
        }
      ]
    },
    {
      "cell_type": "markdown",
      "metadata": {
        "colab_type": "text",
        "id": "mU3Ce8M6I3rz"
      },
      "source": [
        "## Translate\n",
        "\n",
        "* The evaluate function is similar to the training loop, except we don't use *teacher forcing* here. The input to the decoder at each time step is its previous predictions along with the hidden state and the encoder output.\n",
        "<br />評価関数は *teacher forcing* を使用しないことを除いてトレーニングループと似ています。各時間ステップのデコーダーへの入力は、1つ前の予測値および隠れ状態とエンコーダー出力です。\n",
        "* Stop predicting when the model predicts the *end token*.\n",
        "<br />モデルが終了トークンを予測したら予測を停止します。\n",
        "* And store the *attention weights for every time step*.\n",
        "<br />そしてタイムステップごとに attention weights を保存します。\n",
        "\n",
        "Note: The encoder output is calculated only once for one input.\n",
        "\n",
        "> 注：エンコーダー出力は1つの入力に対して1回だけ計算されます。"
      ]
    },
    {
      "cell_type": "code",
      "metadata": {
        "colab_type": "code",
        "id": "EbQpyYs13jF_",
        "colab": {}
      },
      "source": [
        "def evaluate(sentence):\n",
        "\n",
        "    attention_plot = np.zeros((max_length_targ, max_length_inp))\n",
        "    \n",
        "    sentence = preprocess_sentence(sentence)\n",
        "\n",
        "    inputs = [inp_lang.word_index[i] for i in sentence.split(' ')]\n",
        "    inputs = tf.keras.preprocessing.sequence.pad_sequences(\n",
        "        [inputs],\n",
        "        maxlen=max_length_inp,\n",
        "        padding='post')\n",
        "    inputs = tf.convert_to_tensor(inputs)\n",
        "    \n",
        "    result = ''\n",
        "\n",
        "    hidden = [tf.zeros((1, units))]\n",
        "    enc_out, enc_hidden = encoder(inputs, hidden)\n",
        "\n",
        "    dec_hidden = enc_hidden\n",
        "    dec_input = tf.expand_dims([targ_lang.word_index['<start>']], 0)\n",
        "\n",
        "    for t in range(max_length_targ):\n",
        "        predictions, dec_hidden, attention_weights = decoder(\n",
        "            dec_input,\n",
        "            dec_hidden,\n",
        "            enc_out)\n",
        "        \n",
        "        # storing the attention weights to plot later on\n",
        "        attention_weights = tf.reshape(attention_weights, (-1,))\n",
        "        attention_plot[t] = attention_weights.numpy()\n",
        "\n",
        "        predicted_id = tf.argmax(predictions[0]).numpy()\n",
        "\n",
        "        result += targ_lang.index_word[predicted_id] + ' '\n",
        "\n",
        "        if targ_lang.index_word[predicted_id] == '<end>':\n",
        "            return result, sentence, attention_plot\n",
        "        \n",
        "        # the predicted ID is fed back into the model\n",
        "        dec_input = tf.expand_dims([predicted_id], 0)\n",
        "\n",
        "    return result, sentence, attention_plot"
      ],
      "execution_count": 0,
      "outputs": []
    },
    {
      "cell_type": "code",
      "metadata": {
        "colab_type": "code",
        "id": "s5hQWlbN3jGF",
        "colab": {}
      },
      "source": [
        "# function for plotting the attention weights\n",
        "def plot_attention(attention, sentence, predicted_sentence):\n",
        "    fig = plt.figure(figsize=(5, 5))\n",
        "    ax = fig.add_subplot(1, 1, 1)\n",
        "    ax.matshow(attention, cmap='viridis')\n",
        "    \n",
        "    fontdict = {'fontsize': 11}\n",
        "    \n",
        "    ax.set_xticklabels([''] + sentence, fontdict=fontdict, rotation=90)\n",
        "    ax.set_yticklabels([''] + predicted_sentence, fontdict=fontdict)\n",
        "\n",
        "    plt.show()"
      ],
      "execution_count": 0,
      "outputs": []
    },
    {
      "cell_type": "code",
      "metadata": {
        "colab_type": "code",
        "id": "sl9zUHzg3jGI",
        "colab": {}
      },
      "source": [
        "def translate(sentence):\n",
        "\n",
        "    result, sentence, attention_plot = evaluate(sentence)\n",
        "        \n",
        "    print(f'Input: {sentence}')\n",
        "    print(f'Predicted translation: {result}')\n",
        "    \n",
        "    attention_plot = attention_plot[\n",
        "        :len(result.split(' ')), :len(sentence.split(' '))]\n",
        "    plot_attention(attention_plot, sentence.split(' '), result.split(' '))"
      ],
      "execution_count": 0,
      "outputs": []
    },
    {
      "cell_type": "markdown",
      "metadata": {
        "colab_type": "text",
        "id": "n250XbnjOaqP"
      },
      "source": [
        "## Restore the latest checkpoint and test"
      ]
    },
    {
      "cell_type": "code",
      "metadata": {
        "colab_type": "code",
        "id": "UJpT9D5_OgP6",
        "outputId": "e14c5728-4182-45ff-d4c0-3d8365ad4322",
        "colab": {
          "base_uri": "https://localhost:8080/",
          "height": 34
        }
      },
      "source": [
        "# restoring the latest checkpoint in checkpoint_dir\n",
        "checkpoint.restore(tf.train.latest_checkpoint(checkpoint_dir))"
      ],
      "execution_count": 0,
      "outputs": [
        {
          "output_type": "execute_result",
          "data": {
            "text/plain": [
              "<tensorflow.python.training.tracking.util.CheckpointLoadStatus at 0x7f8e43604588>"
            ]
          },
          "metadata": {
            "tags": []
          },
          "execution_count": 29
        }
      ]
    },
    {
      "cell_type": "code",
      "metadata": {
        "colab_type": "code",
        "id": "WrAM0FDomq3E",
        "outputId": "3bb2349f-9b44-40af-f33c-075b09d520ce",
        "colab": {
          "base_uri": "https://localhost:8080/",
          "height": 391
        }
      },
      "source": [
        "translate('hace mucho frio aqui.')"
      ],
      "execution_count": 0,
      "outputs": [
        {
          "output_type": "stream",
          "text": [
            "Input: <start> hace mucho frio aqui . <end>\n",
            "Predicted translation: it s very cold here . <end> \n"
          ],
          "name": "stdout"
        },
        {
          "output_type": "display_data",
          "data": {
            "image/png": "[encoded data removed]",
            "text/plain": [
              "<Figure size 360x360 with 1 Axes>"
            ]
          },
          "metadata": {
            "tags": []
          }
        }
      ]
    },
    {
      "cell_type": "code",
      "metadata": {
        "colab_type": "code",
        "id": "zSx2iM36EZQZ",
        "outputId": "40389d19-a9e1-41c9-9e49-370a91907e09",
        "colab": {
          "base_uri": "https://localhost:8080/",
          "height": 391
        }
      },
      "source": [
        "translate('esta es mi vida.')"
      ],
      "execution_count": 0,
      "outputs": [
        {
          "output_type": "stream",
          "text": [
            "Input: <start> esta es mi vida . <end>\n",
            "Predicted translation: this is my life . <end> \n"
          ],
          "name": "stdout"
        },
        {
          "output_type": "display_data",
          "data": {
            "image/png": "[encoded data removed]",
            "text/plain": [
              "<Figure size 360x360 with 1 Axes>"
            ]
          },
          "metadata": {
            "tags": []
          }
        }
      ]
    },
    {
      "cell_type": "code",
      "metadata": {
        "colab_type": "code",
        "id": "A3LLCx3ZE0Ls",
        "outputId": "25e8664e-3a95-4292-dacb-59e4cfc09478",
        "colab": {
          "base_uri": "https://localhost:8080/",
          "height": 391
        }
      },
      "source": [
        "translate('todavia estan en casa?')"
      ],
      "execution_count": 0,
      "outputs": [
        {
          "output_type": "stream",
          "text": [
            "Input: <start> todavia estan en casa ? <end>\n",
            "Predicted translation: they re still at home . <end> \n"
          ],
          "name": "stdout"
        },
        {
          "output_type": "display_data",
          "data": {
            "image/png": "[encoded data removed]",
            "text/plain": [
              "<Figure size 360x360 with 1 Axes>"
            ]
          },
          "metadata": {
            "tags": []
          }
        }
      ]
    },
    {
      "cell_type": "code",
      "metadata": {
        "colab_type": "code",
        "id": "DUQVLVqUE1YW",
        "outputId": "017b3ed6-443c-40b3-f5fd-d5ad2562d22d",
        "colab": {
          "base_uri": "https://localhost:8080/",
          "height": 410
        }
      },
      "source": [
        "# wrong translation\n",
        "translate('trata de averiguarlo.')"
      ],
      "execution_count": 0,
      "outputs": [
        {
          "output_type": "stream",
          "text": [
            "Input: <start> trata de averiguarlo . <end>\n",
            "Predicted translation: try to figure it . <end> \n"
          ],
          "name": "stdout"
        },
        {
          "output_type": "display_data",
          "data": {
            "image/png": "[encoded data removed]",
            "text/plain": [
              "<Figure size 360x360 with 1 Axes>"
            ]
          },
          "metadata": {
            "tags": []
          }
        }
      ]
    },
    {
      "cell_type": "markdown",
      "metadata": {
        "colab_type": "text",
        "id": "RTe5P5ioMJwN"
      },
      "source": [
        "## Next steps\n",
        "\n",
        "* [Download a different dataset](http://www.manythings.org/anki/) to experiment with translations, for example, English to German, or English to French.\n",
        "<br />[別のデータセットをダウンロード](http://www.manythings.org/anki/)して、たとえば英語からドイツ語、または英語からフランス語への翻訳を試してください。\n",
        "* Experiment with training on a larger dataset, or using more epochs\n",
        "<br />より大きなデータセットでのトレーニング、またはより多くのエポックの使用を試してください。"
      ]
    }
  ]
}